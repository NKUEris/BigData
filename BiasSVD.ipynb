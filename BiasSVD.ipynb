{
 "cells": [
  {
   "cell_type": "markdown",
   "id": "9108c56e",
   "metadata": {},
   "source": [
    "使用BiasSVD的方法来进行矩阵分解，具体分解方法如下:\n",
    "$$R_{m\\times n}=P_{m\\times k}\\times Q_{k\\times n}$$\n",
    "其中假定用户偏置为$b_u$,物品偏置为$b_i$,u为评分系统平均分\n",
    "    $$b_{u,i}=u+b_u+b_i$$\n",
    " 则我们需要优化的目标函数$J(p,q)$为\n",
    " $$\\sum_{u,i}{(r_{u,i}-u-b_u-b_i-q_i^Tp_u)}^2+\\lambda{(\\|p_u\\|^2+\\|q_i\\|^2+b_u^2+b_i^2)}$$\n",
    " 对于该优化目标我们也可以采用梯度下降的方式求解，$b_u$和$b_i$可以初始化为0\n",
    " 根据上述式子对需要跟新的参数求偏导如下：\n",
    " $$\n",
    " \\frac{\\partial {J}}{\\partial {p_u}}=-2(r_{u,i}-u-b_i-b_u-q_i^Tp_u)q_i+2\\lambda p_u $$\n",
    " $$\n",
    " \\frac{\\partial {J}}{\\partial {q_i}}=-2(r_{u,i}-u-b_i-b_u-q_i^Tp_u)p_u+2\\lambda q_i \n",
    " $$\n",
    " 对每个参数迭代更新公式如下:\n",
    " $$\n",
    " p_u = p_u+\\alpha{((r_{u,i}-u-b_i-b_u-q_i^Tp_u)q_i-\\lambda p_u)}\n",
    " $$\n",
    "\n",
    " $$\n",
    " q_i = q_i+\\alpha{((r_{u,i}-u-b_i-b_u-q_i^Tp_u)p_u-\\lambda q_i)}\n",
    " $$\n",
    " $$\n",
    " b_i=b_i+\\alpha{(r_{u,i}-b_i-b_u-u-q_i^Tp_u-\\lambda b_i)}\n",
    " $$\n",
    " $$\n",
    "  b_u=b_u+\\alpha{(r_{u,i}-b_i-b_u-u-q_i^Tp_u-\\lambda b_u)}\n",
    " $$"
   ]
  },
  {
   "cell_type": "code",
   "execution_count": 10,
   "id": "662d0a5c",
   "metadata": {},
   "outputs": [],
   "source": [
    "import math\n",
    "import scipy.sparse\n",
    "from scipy.sparse import coo_matrix\n",
    "import numpy as np"
   ]
  },
  {
   "cell_type": "code",
   "execution_count": null,
   "id": "8a8c2b1c",
   "metadata": {},
   "outputs": [],
   "source": [
    "def load_train_data(train_data_path):\n",
    "    items_dict = []\n",
    "    train_data = []\n",
    "    print(\"start loading...\")\n",
    "    with open(train_data_path, 'r') as file:\n",
    "        lines = file.readlines()\n",
    "        user_num = 0\n",
    "        items_num = 0\n",
    "        rating_num = 0\n",
    "        sum_rating = 0;\n",
    "        for line in lines:\n",
    "            if '|' in line:\n",
    "                user_num += 1\n",
    "                user_id = line.split('|')[0]\n",
    "            else:\n",
    "                item_id, rating = line.split()\n",
    "                rating_num +=1\n",
    "                sum_rating += int(rating)\n",
    "                items_num = max(items_num, int(item_id))\n",
    "                train_data.append([int(user_id),int(item_id),float(rating)])\n",
    "        print(\"finish loading...\")\n",
    "    return user_num,items_num+1,rating_num, sum_rating,train_data\n",
    "# train_data_path = \"data-202205/train.txt\"\n",
    "# user_num,items_num, rating_num, sum_rating,train_data = load_train_data(train_data_path)\n",
    "# print(\"用户数量:\",user_num)\n",
    "# print(\"物品数量:\",items_num)\n",
    "# print(\"评分数量:\",rating_num)\n",
    "# print(\"总评分数:\",sum_rating)\n",
    "# def transfer_sparse_matrix(data, user_num, items_num):\n",
    "#     data_array = np.array(data)\n",
    "    \n",
    "#     row = data_array[:,0].astype(int)\n",
    "#     col = data_array[:,1].astype(int)\n",
    "#     value = data_array[:,2].astype(np.float32)\n",
    "#     R = coo_matrix((value,(row,col)),shape=(user_num,items_num))\n",
    "#     R = R.tocsr()\n",
    "#     return R\n",
    "#R = transfer_sparse_matrix(train_data,user_num,items_num)\n"
   ]
  },
  {
   "cell_type": "code",
   "execution_count": 190,
   "id": "f6d2623b",
   "metadata": {
    "scrolled": false
   },
   "outputs": [
    {
     "ename": "SyntaxError",
     "evalue": "invalid syntax (<ipython-input-190-1de404466a83>, line 45)",
     "output_type": "error",
     "traceback": [
      "\u001b[1;36m  File \u001b[1;32m\"<ipython-input-190-1de404466a83>\"\u001b[1;36m, line \u001b[1;32m45\u001b[0m\n\u001b[1;33m    if __name__ == \"__main__\":\u001b[0m\n\u001b[1;37m                             ^\u001b[0m\n\u001b[1;31mSyntaxError\u001b[0m\u001b[1;31m:\u001b[0m invalid syntax\n"
     ]
    }
   ],
   "source": [
    "class BiasSVD:\n",
    "    \n",
    "    def __init__(self, learning_rate = 0.001,lambda_regularizer = 0.1,laten_factors=10,epoch=10):\n",
    "        self.learning_rate = learning_rate   #学习率\n",
    "#         self.reg_p = reg_p\n",
    "#         self.reg_q = reg_q\n",
    "#         self.bu = bu\n",
    "#         self.bi = bi\n",
    "        self.laten_factors = laten_factors   #分割的低维度矩阵中隐式类别的数量\n",
    "        self.epoch = epoch #训练轮数\n",
    "        self.lambda_regularizer = lambda_regularizer    #正则化参数\n",
    "    def test(self):\n",
    "        return 2\n",
    "    \n",
    "    def train(self):\n",
    "        self.reg_p = np.random(0,0.1,(self.user_num,self.laten_factors))\n",
    "        self.reg_q = np.random(0,0.1,(self.user_num,self.laten_factors))\n",
    "        self.bu = np.zeros(self.user_num)\n",
    "        self.bi = np.zeros(self.item_num)\n",
    "        train_data_path = \"data-202205/train.txt\"\n",
    "        user_num, item_num, rating_num, sum_rating, train_data = load_train_data(train_data_path)\n",
    "        self.user_num = user_num\n",
    "        self.item_num = item_num\n",
    "        aveg_rating = float32(sum_rating/rating_num)\n",
    "        \n",
    "        records_list = []\n",
    "        for step in range(0,self.epoch):\n",
    "            loss = 0.0\n",
    "            for data in train_data:\n",
    "                u, i, r = data\n",
    "                P[u],Q[i],bu[u],bi[i], ls = self.update(P[u],Q[i],bu=bu[i],bi=b[i],aveg_rating=aveg_rating,r=r,\n",
    "                                                       learning_rate=self.learning_rate,\n",
    "                                                       lambda_regularizer=self.lambda_regularizer)\n",
    "                loss+= ls\n",
    "            print(\"step:%d loss:%d\"%(step,loss)\n",
    "            \n",
    "#     def tet(self):\n",
    "#         error = r-(aveg_rating + bu + bi + np.dot(p,q.T))\n",
    "#         p = p + learning_rate(error* q - lambda_regularizer*p)\n",
    "#         q = q + learning_rate(error* p - lambda_regularizer*q)\n",
    "#         bu = bu + learning_rate(error - lambda_regularizer*bu)\n",
    "#         bi = bi + learning_rate(error - lambda_regularizer*bi)\n",
    "#         loss = 0.5*(error**2 + lambda_regularizer*(np.square(p).sum()+np.square(q).sum())+bu**2 + bi**2)\n",
    "#         return p,q,bu,bi,loss              \n",
    "if __name__ == \"__main__\":\n",
    "#     train_data_path = \"data-202205/train.txt\"\n",
    "#     user_num,item_num,rating_num,sum_rating, data = load_train_data(train_data_path)\n",
    "#     print(\"用户数量:\",user_num)\n",
    "#     print(\"物品数量:\",item_num)\n",
    "#     print(\"评分数量:\",rating_num)\n",
    "#     print(\"总评分数:\",sum_rating)\n",
    "    svd = BiasSVD()\n",
    "    print(svd.lambda_regularizer)\n",
    "                  \n"
   ]
  },
  {
   "cell_type": "code",
   "execution_count": 54,
   "id": "87ea649a",
   "metadata": {},
   "outputs": [
    {
     "ename": "NameError",
     "evalue": "name 'BiasSVD' is not defined",
     "output_type": "error",
     "traceback": [
      "\u001b[1;31m---------------------------------------------------------------------------\u001b[0m",
      "\u001b[1;31mNameError\u001b[0m                                 Traceback (most recent call last)",
      "\u001b[1;32m<ipython-input-54-2a6492804977>\u001b[0m in \u001b[0;36m<module>\u001b[1;34m\u001b[0m\n\u001b[0;32m      6\u001b[0m \u001b[1;31m#     print(\"评分数量:\",rating_num)\u001b[0m\u001b[1;33m\u001b[0m\u001b[1;33m\u001b[0m\u001b[0m\n\u001b[0;32m      7\u001b[0m \u001b[1;31m#     print(\"总评分数:\",sum_rating)\u001b[0m\u001b[1;33m\u001b[0m\u001b[1;33m\u001b[0m\u001b[0m\n\u001b[1;32m----> 8\u001b[1;33m     \u001b[0msvd\u001b[0m \u001b[1;33m=\u001b[0m \u001b[0mBiasSVD\u001b[0m\u001b[1;33m(\u001b[0m\u001b[1;33m)\u001b[0m\u001b[1;33m\u001b[0m\u001b[1;33m\u001b[0m\u001b[0m\n\u001b[0m\u001b[0;32m      9\u001b[0m     \u001b[0msvd\u001b[0m\u001b[1;33m.\u001b[0m\u001b[0mtrain\u001b[0m\u001b[1;33m(\u001b[0m\u001b[1;33m)\u001b[0m\u001b[1;33m\u001b[0m\u001b[1;33m\u001b[0m\u001b[0m\n",
      "\u001b[1;31mNameError\u001b[0m: name 'BiasSVD' is not defined"
     ]
    }
   ],
   "source": []
  },
  {
   "cell_type": "markdown",
   "id": "a81bd525",
   "metadata": {},
   "source": []
  }
 ],
 "metadata": {
  "kernelspec": {
   "display_name": "Python 3",
   "language": "python",
   "name": "python3"
  },
  "language_info": {
   "codemirror_mode": {
    "name": "ipython",
    "version": 3
   },
   "file_extension": ".py",
   "mimetype": "text/x-python",
   "name": "python",
   "nbconvert_exporter": "python",
   "pygments_lexer": "ipython3",
   "version": "3.9.7"
  }
 },
 "nbformat": 4,
 "nbformat_minor": 5
}
